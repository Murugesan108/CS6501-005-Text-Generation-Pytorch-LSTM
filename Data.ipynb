{
 "cells": [
  {
   "cell_type": "code",
   "execution_count": 3,
   "metadata": {},
   "outputs": [],
   "source": [
    "class Dictionary(object):\n",
    "    def __init__(self):\n",
    "        self.word2idx = {}\n",
    "        self.idx2word = []\n",
    "\n",
    "    def add_word(self, word):\n",
    "        if word not in self.word2idx:\n",
    "            self.idx2word.append(word)\n",
    "            self.word2idx[word] = len(self.idx2word) - 1\n",
    "        return self.word2idx[word]\n",
    "\n",
    "    def __len__(self):\n",
    "        return len(self.idx2word)"
   ]
  },
  {
   "cell_type": "code",
   "execution_count": 4,
   "metadata": {},
   "outputs": [],
   "source": [
    "## Reading the input data\n",
    "with open('trn-wiki.txt','r',encoding = 'UTF-8') as file:\n",
    "    wiki_train = file.read().splitlines()\n",
    "    \n",
    "train_all = ' '.join(wiki_train)"
   ]
  },
  {
   "cell_type": "code",
   "execution_count": 5,
   "metadata": {},
   "outputs": [
    {
     "data": {
      "text/plain": [
       "1800340"
      ]
     },
     "execution_count": 5,
     "metadata": {},
     "output_type": "execute_result"
    }
   ],
   "source": [
    "path = 'trn-wiki.txt'\n",
    "dictionary = Dictionary()\n",
    "with open(path, 'r', encoding=\"utf8\") as f:\n",
    "    tokens = 0\n",
    "    for line in f:\n",
    "        words = line.split()\n",
    "        tokens += len(words)\n",
    "        for word in words:\n",
    "            dictionary.add_word(word)\n",
    "            \n",
    "tokens"
   ]
  },
  {
   "cell_type": "code",
   "execution_count": 6,
   "metadata": {},
   "outputs": [],
   "source": [
    "import torch\n",
    "with open(path, 'r', encoding=\"utf8\") as f:\n",
    "    ids = torch.LongTensor(tokens)\n",
    "    token = 0\n",
    "    for line in f:\n",
    "        words = line.split()\n",
    "        for word in words:\n",
    "            ids[token] = dictionary.word2idx[word]\n",
    "            token += 1"
   ]
  },
  {
   "cell_type": "code",
   "execution_count": null,
   "metadata": {},
   "outputs": [],
   "source": [
    "train_corpus = ids"
   ]
  }
 ],
 "metadata": {
  "kernelspec": {
   "display_name": "Python 3",
   "language": "python",
   "name": "python3"
  },
  "language_info": {
   "codemirror_mode": {
    "name": "ipython",
    "version": 3
   },
   "file_extension": ".py",
   "mimetype": "text/x-python",
   "name": "python",
   "nbconvert_exporter": "python",
   "pygments_lexer": "ipython3",
   "version": "3.6.4"
  }
 },
 "nbformat": 4,
 "nbformat_minor": 2
}
