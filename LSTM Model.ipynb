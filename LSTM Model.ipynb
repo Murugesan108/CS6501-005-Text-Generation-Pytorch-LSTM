{
 "cells": [
  {
   "cell_type": "code",
   "execution_count": 4,
   "metadata": {},
   "outputs": [],
   "source": [
    "import torch.nn as nn\n",
    "\n",
    "\n",
    "## Creating a class of nn.Module to include RNN with LSTM Units\n",
    "class LSTM_Model(nn.Module):\n",
    "    \n",
    "    def __init__(self, vocab_size, embedding_size, hidden_size, batch_size = 1, n_layers = 1):\n",
    "        \n",
    "        super(LSTM_Model, self).__init__()\n",
    "        \n",
    "        ## Creating an embedding object to create 'embedding_size' dimensional encoding\n",
    "        self.encoder = nn.Embedding(vocab_size,embedding_size)\n",
    "        \n",
    "        self.lstm = nn.LSTM(embedding_size,hidden_size,n_layers)\n",
    "        \n",
    "        ## The output size is assigned as hidden_size * vocab_size (Since the output is one word from the entire vocab)\n",
    "        self.linear_output = nn.Linear(hidden_size,vocab_size)\n",
    "        \n",
    "        self.init_weights()\n",
    "        \n",
    "        ## More variables\n",
    "        self.hidden_size = hidden_size\n",
    "        self.n_layers = n_layers\n",
    "    \n",
    "        \n",
    "    def init_weights(self):\n",
    "        random_range = 0.1\n",
    "        \n",
    "        ## Setting random values for different layers\n",
    "        self.encoder.weight.data.uniform_(-random_range, random_range)\n",
    "        \n",
    "        self.linear_output.bias.data.zero_()\n",
    "        self.linear_output.weight.data.uniform_(-random_range, random_range)\n",
    "\n",
    "    # Defining the forward layer    \n",
    "    def forward(self, input, hidden):\n",
    "        \n",
    "        #Passing through the embedding layer\n",
    "        embedding_input = self.encoder(input)\n",
    "        \n",
    "        lstm_out, hidden = self.lstm(embedding_input, hidden)\n",
    "        \n",
    "        decoded = self.linear_output(lstm_out.view(lstm_out.size(0)*lstm_out.size(1), lstm_out.size(2)))\n",
    "        \n",
    "        return decoded.view(lstm_out.size(0), lstm_out.size(1), decoded.size(1)), hidden\n",
    "\n",
    "    \n",
    "    def init_hidden(self, batch_size):\n",
    "        \n",
    "        weight = next(self.parameters())\n",
    "        \n",
    "        return (weight.new_zeros(self.n_layers, batch_size, self.hidden_size), \\\n",
    "                    weight.new_zeros(self.n_layers, batch_size, self.hidden_size))"
   ]
  },
  {
   "cell_type": "code",
   "execution_count": null,
   "metadata": {},
   "outputs": [],
   "source": []
  }
 ],
 "metadata": {
  "kernelspec": {
   "display_name": "Python 3",
   "language": "python",
   "name": "python3"
  },
  "language_info": {
   "codemirror_mode": {
    "name": "ipython",
    "version": 3
   },
   "file_extension": ".py",
   "mimetype": "text/x-python",
   "name": "python",
   "nbconvert_exporter": "python",
   "pygments_lexer": "ipython3",
   "version": "3.6.4"
  }
 },
 "nbformat": 4,
 "nbformat_minor": 2
}
